{
 "cells": [
  {
   "cell_type": "markdown",
   "metadata": {},
   "source": [
    "### InstaBot"
   ]
  },
  {
   "cell_type": "markdown",
   "metadata": {},
   "source": [
    "Note :- \n",
    "\n",
    "--> Execute code line by line or most of the fuctionality start it's execution from home page\n",
    "\n",
    "\n",
    "--> Make Sure connected with good internet connection"
   ]
  },
  {
   "cell_type": "markdown",
   "metadata": {},
   "source": [
    "Demo video Link https://www.youtube.com/watch?v=cDtqtoNLgWk"
   ]
  },
  {
   "cell_type": "code",
   "execution_count": 71,
   "metadata": {},
   "outputs": [],
   "source": [
    "# Importing libraries and create webdriver\n",
    "# There are two ways for doing same \n",
    "\n",
    "#######     First way  \n",
    "\n",
    "# from selenium import webdriver\n",
    "# from webdriver_manager.chrome import ChromeDriverManager\n",
    "# from selenium.webdriver.chrome.service import Service as ChromeService\n",
    "# driver = webdriver.Chrome(service=ChromeService(ChromeDriverManager().install()))\n",
    "\n",
    "\n",
    "########     Second way \n",
    "from selenium import webdriver\n",
    "\n",
    "driver=webdriver.Chrome()\n",
    "\n",
    "driver.maximize_window()\n"
   ]
  },
  {
   "cell_type": "code",
   "execution_count": 3,
   "metadata": {},
   "outputs": [],
   "source": [
    "userName=\"SampleUserName\"\n",
    "paswrd=\"SamplePassword\""
   ]
  },
  {
   "cell_type": "markdown",
   "metadata": {},
   "source": [
    "### 1. Login to account"
   ]
  },
  {
   "cell_type": "code",
   "execution_count": 72,
   "metadata": {},
   "outputs": [],
   "source": [
    "from selenium.webdriver.support import expected_conditions as EC\n",
    "from selenium.webdriver.support.ui import WebDriverWait\n",
    "from selenium.webdriver.common.by import By\n",
    "from selenium.common.exceptions import TimeoutException\n",
    "import time\n",
    "wait=WebDriverWait(driver,10)"
   ]
  },
  {
   "cell_type": "code",
   "execution_count": 73,
   "metadata": {},
   "outputs": [],
   "source": [
    "driver.get('https://www.instagram.com/')"
   ]
  },
  {
   "cell_type": "code",
   "execution_count": 74,
   "metadata": {},
   "outputs": [],
   "source": [
    "# finding input box for username and fill it with value\n",
    "\n",
    "username_box=wait.until(EC.presence_of_element_located((By.NAME,'username')))\n",
    "username_box\n",
    "username_box.send_keys(userName)\n",
    "\n",
    "# finding input box for password and fill it with value\n",
    "\n",
    "password_box=driver.find_element(by=\"name\",value=\"password\")\n",
    "password_box.send_keys(paswrd)\n",
    "\n",
    "# finding login/submit button and click\n",
    "\n",
    "login_btn=wait.until(EC.presence_of_all_elements_located((By.XPATH,'//*[@id=\"loginForm\"]/div[1]/div[3]/button/div')))\n",
    "\n",
    "login_btn[0].submit()\n",
    "\n",
    "not_now=wait.until(EC.presence_of_element_located((By.CLASS_NAME,\"_ac8f\")))\n",
    "not_now.click()\n",
    "\n",
    "\n",
    "not_now=wait.until(EC.presence_of_element_located((By.CLASS_NAME,\"_a9_1\")))\n",
    "not_now.click()"
   ]
  },
  {
   "cell_type": "markdown",
   "metadata": {},
   "source": [
    "### 2. Type “food” in search bar"
   ]
  },
  {
   "cell_type": "code",
   "execution_count": 75,
   "metadata": {},
   "outputs": [],
   "source": [
    "def search_username(q):\n",
    "    try:\n",
    "        search_box = wait.until(EC.presence_of_all_elements_located((By.CLASS_NAME,'x5n08af')))\n",
    "        # we get manyobjects where 4th one is for opening search bar so click it\n",
    "        search_box[3].click()\n",
    "\n",
    "        #get the search box\n",
    "\n",
    "        s_input=driver.find_element(By.TAG_NAME,\"input\")\n",
    "        s_input.send_keys(q)\n",
    "        \n",
    "        # fetching the usernames (avoiding hashtags)\n",
    "    except TimeoutException :\n",
    "        print('Sorry , something wrong happen ! Try again..')\n",
    "\n",
    "def print_usernames():\n",
    "    try:\n",
    "        span_element = wait.until(EC.presence_of_all_elements_located((By.CSS_SELECTOR,\"span.x1lliihq.x1plvlek.xryxfnj.x1n2onr6.x193iq5w.xeuugli.x1fj9vlw.x13faqbe.x1vvkbs.x1s928wv.xhkezso.x1gmr53x.x1cpjm7i.x1fgarty.x1943h6x.x1i0vuye.xvs91rp.x1s688f.x5n08af.x10wh9bi.x1wdrske.x8viiok.x18hxmgj\")))\n",
    "        for i in span_element:\n",
    "            s=i.text\n",
    "            if s[0]==\"#\":continue\n",
    "            print(s)\n",
    "    except TimeoutException:\n",
    "        print('Sorry , something wrong happen ! Try again..')\n",
    "            \n"
   ]
  },
  {
   "cell_type": "code",
   "execution_count": 76,
   "metadata": {},
   "outputs": [],
   "source": [
    "search_username(\"food\")"
   ]
  },
  {
   "cell_type": "code",
   "execution_count": 77,
   "metadata": {},
   "outputs": [
    {
     "name": "stdout",
     "output_type": "stream",
     "text": [
      "foodtalkindia\n",
      "dilsefoodie\n",
      "food_and_the_foodies\n",
      "khane_ka_khazana\n",
      "food_lunatic\n",
      "food_delight03\n",
      "food\n",
      "food.ie.me\n",
      "food_columnist_\n",
      "food_at_my_kitchen\n",
      "food_addict_._\n",
      "food_introdictionary\n",
      "foodmapjaipur\n",
      "food__planet_\n",
      "foodandcoffeebonanza\n",
      "cookingstar_food\n",
      "foodpandits\n",
      "foodfood3637\n",
      "food_inveins\n",
      "delhifoodcastle\n",
      "food_cafe_adventure\n",
      "foodie_moody_girl\n",
      "foodhopp\n",
      "food_hunt_chd\n",
      "foodyaaru\n",
      "foodieslovetowander\n",
      "warangal.food.diaries\n",
      "foodies_findings\n",
      "food_with_megha\n",
      "foodholic_sharmistha\n",
      "foodphilia_assam\n",
      "bhukkad_belly\n",
      "food_gasmic_famous\n",
      "wheelsandspoons\n",
      "foodie_chandana\n",
      "_foodie_ladki\n",
      "foodie_ishrat\n",
      "foodvmasala\n",
      "_food.web_\n",
      "foodie_by_the_soul\n",
      "_foodie_me._\n",
      "thefoodblogmumbai\n",
      "foodbloggerscorner\n",
      "hungrynagari\n",
      "foodiewithfries\n",
      "foodieyummumbai\n",
      "food_blogger290\n",
      "foodgalleryjabalpur\n",
      "foodies_home28\n",
      "food___swings\n",
      "foodophiles1392\n",
      "noshno_sh\n",
      "noshno_sh\n",
      "asitisnutrition\n"
     ]
    }
   ],
   "source": [
    "#calling printing function for usernames\n",
    "print_usernames()"
   ]
  },
  {
   "cell_type": "markdown",
   "metadata": {},
   "source": [
    "### 3. Searching and Opening profile"
   ]
  },
  {
   "cell_type": "code",
   "execution_count": 78,
   "metadata": {},
   "outputs": [],
   "source": [
    "driver.get('https://www.instagram.com/')"
   ]
  },
  {
   "cell_type": "code",
   "execution_count": 82,
   "metadata": {},
   "outputs": [],
   "source": [
    "def open_sodel():\n",
    "    try:\n",
    "        search_username(\"so delhi\")\n",
    "        time.sleep(2)\n",
    "        so_delhi = wait.until(EC.presence_of_element_located((By.CSS_SELECTOR,\"span.x1lliihq.x1plvlek.xryxfnj.x1n2onr6.x193iq5w.xeuugli.x1fj9vlw.x13faqbe.x1vvkbs.x1s928wv.xhkezso.x1gmr53x.x1cpjm7i.x1fgarty.x1943h6x.x1i0vuye.xvs91rp.x1s688f.x5n08af.x10wh9bi.x1wdrske.x8viiok.x18hxmgj\")))\n",
    "        so_delhi.click()\n",
    "    except TimeoutException:\n",
    "        print('Sorry , something wrong happen ! Try again..')\n",
    "\n",
    "    "
   ]
  },
  {
   "cell_type": "code",
   "execution_count": 83,
   "metadata": {},
   "outputs": [],
   "source": [
    "open_sodel()"
   ]
  },
  {
   "cell_type": "markdown",
   "metadata": {},
   "source": [
    "### 4. Follow/Unfollow given handles"
   ]
  },
  {
   "cell_type": "markdown",
   "metadata": {},
   "source": [
    "Follow"
   ]
  },
  {
   "cell_type": "code",
   "execution_count": 84,
   "metadata": {},
   "outputs": [
    {
     "name": "stdout",
     "output_type": "stream",
     "text": [
      "Followed So_Delhi\n"
     ]
    }
   ],
   "source": [
    "def follow():\n",
    "    try:\n",
    "        follow_so_delhi=driver.find_element(By.CSS_SELECTOR, \"div.x9f619.xjbqb8w.x78zum5.x168nmei.x13lgxp2.x5pf9jr.xo71vjh.x1i64zmx.x1n2onr6.x1plvlek.xryxfnj.x1iyjqo2.x2lwn1j.xeuugli.xdt5ytf.xqjyukv.x1qjc9v5.x1oa3qoh.x1nhvcw1\")\n",
    "        status=follow_so_delhi.text\n",
    "\n",
    "        if status==\"Follow\":\n",
    "            follow_so_delhi.click()\n",
    "            print(\"Followed So_Delhi\")\n",
    "        else:\n",
    "            print(\"Already following..\")\n",
    "    except TimeoutException:\n",
    "        print('Sorry , something wrong happen ! Try again..')\n",
    "\n",
    "\n",
    "# call the follow function\n",
    "        \n",
    "follow()\n"
   ]
  },
  {
   "cell_type": "markdown",
   "metadata": {},
   "source": [
    "Unfollow"
   ]
  },
  {
   "cell_type": "code",
   "execution_count": 85,
   "metadata": {},
   "outputs": [
    {
     "name": "stdout",
     "output_type": "stream",
     "text": [
      "Unfollowed So delhi\n"
     ]
    }
   ],
   "source": [
    "# unfollow part \n",
    "\n",
    "def unfollow():\n",
    "    try:\n",
    "        follow_so_delhi=driver.find_element(By.CSS_SELECTOR, \"div.x9f619.xjbqb8w.x78zum5.x168nmei.x13lgxp2.x5pf9jr.xo71vjh.x1i64zmx.x1n2onr6.x1plvlek.xryxfnj.x1iyjqo2.x2lwn1j.xeuugli.xdt5ytf.xqjyukv.x1qjc9v5.x1oa3qoh.x1nhvcw1\")\n",
    "        status=follow_so_delhi.text\n",
    "\n",
    "        if status==\"Follow\":\n",
    "            print(\"Already Unfollowed..\")\n",
    "            \n",
    "        else:\n",
    "            follow_so_delhi.click()\n",
    "            unfollow_button=wait.until(EC.presence_of_element_located((By.XPATH,\"//span[contains(text(),'Unfollow')]\")))\n",
    "            unfollow_button.click()\n",
    "            print(\"Unfollowed So delhi\")\n",
    "    except TimeoutException:\n",
    "        print('Sorry , something wrong happen ! Try again..')\n",
    "\n",
    "unfollow()\n"
   ]
  },
  {
   "cell_type": "markdown",
   "metadata": {},
   "source": [
    "### 5. Like/Unlike posts"
   ]
  },
  {
   "cell_type": "markdown",
   "metadata": {},
   "source": [
    "5.1 Like the top 30 posts"
   ]
  },
  {
   "cell_type": "code",
   "execution_count": 86,
   "metadata": {},
   "outputs": [],
   "source": [
    "\n",
    "def likes(q):\n",
    "    try:\n",
    "        driver.get('https://www.instagram.com/')\n",
    "        search_username(q)\n",
    "        time.sleep(3)\n",
    "        dils = wait.until(EC.presence_of_element_located((By.CSS_SELECTOR,\"span.x1lliihq.x1plvlek.xryxfnj.x1n2onr6.x193iq5w.xeuugli.x1fj9vlw.x13faqbe.x1vvkbs.x1s928wv.xhkezso.x1gmr53x.x1cpjm7i.x1fgarty.x1943h6x.x1i0vuye.xvs91rp.x1s688f.x5n08af.x10wh9bi.x1wdrske.x8viiok.x18hxmgj\")))\n",
    "        dils.click()\n",
    "        time.sleep(4)\n",
    "        s=wait.until(EC.presence_of_element_located((By.CLASS_NAME,\"_aagw\")))\n",
    "        s.click()\n",
    "\n",
    "        like_button=wait.until(EC.presence_of_element_located((By.CSS_SELECTOR,\"svg.x1lliihq.x1n2onr6.xyb1xck\")))\n",
    "        like_button.click()\n",
    "        next_button=driver.find_elements(By.CSS_SELECTOR,\"svg.x1lliihq.x1n2onr6.x175jnsf\")\n",
    "        next_button[0].click()\n",
    "\n",
    "        for i in range(29):\n",
    "            like_button=wait.until(EC.presence_of_element_located((By.CSS_SELECTOR,\"svg.x1lliihq.x1n2onr6.xyb1xck\")))\n",
    "            like_button.click()\n",
    "            next_button=driver.find_elements(By.CSS_SELECTOR,\"svg.x1lliihq.x1n2onr6.x175jnsf\")\n",
    "            next_button[1].click()\n",
    "    except TimeoutException:\n",
    "        print('Sorry , something wrong happen ! Try again..')\n"
   ]
  },
  {
   "cell_type": "code",
   "execution_count": 87,
   "metadata": {},
   "outputs": [],
   "source": [
    "likes(\"dilsefoodie\") # Enter Username Here "
   ]
  },
  {
   "cell_type": "code",
   "execution_count": 88,
   "metadata": {},
   "outputs": [],
   "source": [
    "# Previous code stops at 31st post\n",
    "\n",
    "# 5.1 DisLike the top 30 posts\n",
    "\n",
    "def dislike():\n",
    "    try:\n",
    "        for i in range(30):\n",
    "            previous_button=wait.until(EC.presence_of_element_located((By.CSS_SELECTOR,\"svg.x1lliihq.x1n2onr6.x175jnsf\")))\n",
    "            previous_button.click()\n",
    "            dislike_button=driver.find_element(By.CSS_SELECTOR,\"svg.x1lliihq.x1n2onr6.xxk16z8\")\n",
    "            dislike_button.click()\n",
    "\n",
    "    except TimeoutException:\n",
    "        print('Sorry , something wrong happen ! Try again..')\n"
   ]
  },
  {
   "cell_type": "code",
   "execution_count": 89,
   "metadata": {},
   "outputs": [
    {
     "name": "stdout",
     "output_type": "stream",
     "text": [
      "Disliked Top 30 posts !!\n"
     ]
    }
   ],
   "source": [
    "dislike()\n",
    "print(\"Disliked Top 30 posts !!\")"
   ]
  },
  {
   "cell_type": "markdown",
   "metadata": {},
   "source": [
    "### 6. Extract list of followers"
   ]
  },
  {
   "cell_type": "code",
   "execution_count": 90,
   "metadata": {},
   "outputs": [],
   "source": [
    "# WE can not extract more 25-30 followers handles of individual user due to new security feature of instagram\n",
    "def extract_followers_restricted_id(q):\n",
    "    try:\n",
    "        driver.get('https://www.instagram.com/')\n",
    "        search_username(q)\n",
    "        time.sleep(3)                                                                \n",
    "        user_handle = wait.until(EC.presence_of_element_located((By.CSS_SELECTOR,\"span.x1lliihq.x1plvlek.xryxfnj.x1n2onr6.x193iq5w.xeuugli.x1fj9vlw.x13faqbe.x1vvkbs.x1s928wv.xhkezso.x1gmr53x.x1cpjm7i.x1fgarty.x1943h6x.x1i0vuye.xvs91rp.x1s688f.x5n08af.x10wh9bi.x1wdrske.x8viiok.x18hxmgj\")))\n",
    "\n",
    "        user_handle.click()\n",
    "        followers_list=[]\n",
    "        time.sleep(3)\n",
    "        #open pop up of followers\n",
    "        pop_up_opening=wait.until(EC.presence_of_element_located((By.CSS_SELECTOR,\"a:has(._ac2a)\")))\n",
    "        pop_up_opening.click()\n",
    "\n",
    "        time.sleep(4)\n",
    "\n",
    "        followers=driver.find_elements(By.CSS_SELECTOR,(\"span._ap3a._aaco._aacw._aacx._aad7._aade\"))\n",
    "        for i in followers:\n",
    "            followers_list.append(i.text)\n",
    "\n",
    "        #Returning the followers list \n",
    "        return followers_list\n",
    "    \n",
    "    except TimeoutException:\n",
    "        print('Sorry , something wrong happen ! Try again..') \n",
    "    \n"
   ]
  },
  {
   "cell_type": "code",
   "execution_count": 91,
   "metadata": {},
   "outputs": [
    {
     "name": "stdout",
     "output_type": "stream",
     "text": [
      "['swaaad_saga', 'bowl2soul', '_spice_paradise', 'du__club', 'noshno_sh', 'delissh_discoveries', 'c.bikaner.misthan.bhandar', 'curatedcirclesbyme', 'iamfoodie226', 'gk2_connect', 'horecahire', 'delhiaffair', 'trishad004', 'dipthefood', '_peach.yy_', 'around_pondy', 'salonisrivastavaofficial', 'inkingodisha', 'hiiam_bella', 'gaurieerohatgi', 'ticklethypalate', 'food_picked', 'saesha_bakes', 'trave_lwithmuneeba', 'arvindjayagopal', 'singhfoodandtravel', 'shivamsarma9580', 'foodievarun', 'foodtips99', 'maharaja_ice_cream_0003', 'vaibhaveeviveka', 'sonishruti', 'justmexit', 'chefkundansingh', 'harshitasharma021', 'tansenmodeltown', '_sana_shanu', 'snehaa.anand', '__tincture__', '_smileypavi06', 'infinite.curiosityy', '_shubhamrana_47', 'volarebakehouse', 'wickedgood.pizza', 'som_pod66', 'mudhitanagpal', 'nanduprathap', 'neha_ansari_3369', 'sanika__love_tawase_', 'cyclekar_abhi']\n"
     ]
    }
   ],
   "source": [
    "# Followers of foodtalkindia\n",
    "\n",
    "foodtalkindia_followers=extract_followers_restricted_id(\"foodtalkindia\")\n",
    "print(foodtalkindia_followers)"
   ]
  },
  {
   "cell_type": "code",
   "execution_count": 92,
   "metadata": {},
   "outputs": [],
   "source": [
    "def extract_all_follower_viewable_id(q):\n",
    "    try:\n",
    "        driver.get('https://www.instagram.com/')\n",
    "        search_username(q)\n",
    "        time.sleep(2)           \n",
    "        user_handle = wait.until(EC.presence_of_element_located((By.CSS_SELECTOR,\"span.x1lliihq.x1plvlek.xryxfnj.x1n2onr6.x193iq5w.xeuugli.x1fj9vlw.x13faqbe.x1vvkbs.x1s928wv.xhkezso.x1gmr53x.x1cpjm7i.x1fgarty.x1943h6x.x1i0vuye.xvs91rp.x1s688f.x5n08af.x10wh9bi.x1wdrske.x8viiok.x18hxmgj\")))\n",
    "        \n",
    "        user_handle.click()\n",
    "        followers_list=[]\n",
    "\n",
    "        #open pop up of followers\n",
    "        pop_up_opening=wait.until(EC.presence_of_element_located((By.CSS_SELECTOR,\"a:has(._ac2a)\")))\n",
    "        pop_up_opening.click()\n",
    "\n",
    "        time.sleep(4)\n",
    "\n",
    "        pop_up_body=driver.find_elements(By.CSS_SELECTOR,\"div._aano\")[0]\n",
    "        for i in range(100):\n",
    "            driver.execute_script('arguments[0].scrollTop = arguments[0].scrollTop + arguments[0].offsetHeight;', pop_up_body)\n",
    "            time.sleep(3)\n",
    "        followers=driver.find_elements(By.CSS_SELECTOR,(\"span._ap3a._aaco._aacw._aacx._aad7._aade\"))\n",
    "\n",
    "        for i in followers:\n",
    "            followers_list.append(i.text)\n",
    "\n",
    "        #Returning the followers list \n",
    "        return followers_list\n",
    "    \n",
    "    except TimeoutException:\n",
    "        print('Sorry , something wrong happen ! Try again..') "
   ]
  },
  {
   "cell_type": "code",
   "execution_count": 77,
   "metadata": {},
   "outputs": [
    {
     "data": {
      "text/plain": [
       "['sher.jatt6',\n",
       " 'xhmed._.riyaz',\n",
       " 'vedehi5487',\n",
       " 'sunita_bhatia13',\n",
       " 'itanagar.diary',\n",
       " 'manchanda.rekha024',\n",
       " 'saihaj.__',\n",
       " '1mysa_cafe',\n",
       " 'oliviablossom97',\n",
       " 'yash_4123_',\n",
       " '_psychic_nerd',\n",
       " 'diva__srivastava',\n",
       " 'iblamemahiyaaa',\n",
       " 'eat_street_bites',\n",
       " 'bibiiiiiii1950',\n",
       " '_aastha.9551',\n",
       " 'itz__yadav__raj',\n",
       " '_luv4yu_x_',\n",
       " 'little.things_by_simran',\n",
       " 'shristi_iiiiii',\n",
       " 'thecherrytree_cafe',\n",
       " 'souli_nsearch',\n",
       " 'cryptic_vidhi',\n",
       " '__divbtw_09',\n",
       " '_kiruuu_85',\n",
       " 'nancy_kchadha',\n",
       " 'divyanshiisrivastava',\n",
       " 'itz_aashish_kumarr',\n",
       " 'carnivalera',\n",
       " 'aashiii_2908',\n",
       " 'volarebakehouse',\n",
       " 'shaye._vs',\n",
       " 'tushar67_0',\n",
       " 'beard.baba1.2',\n",
       " 'tandoorebawarchi']"
      ]
     },
     "execution_count": 77,
     "metadata": {},
     "output_type": "execute_result"
    }
   ],
   "source": [
    "# Followers of sodelhi\n",
    "\n",
    "sodelhi_followers=extract_all_follower_viewable_id(\"sodelhi\")\n",
    "sodelhi_followers\n",
    "\n"
   ]
  },
  {
   "cell_type": "code",
   "execution_count": 93,
   "metadata": {},
   "outputs": [],
   "source": [
    "def extract_my_followers():\n",
    "    try:\n",
    "        driver.get('https://www.instagram.com/')\n",
    "        my_profile=driver.find_element(By.CSS_SELECTOR,\"div.x1iyjqo2.xh8yej3 :nth-child(8)\")\n",
    "        my_profile.click()\n",
    "        followers_list=[]\n",
    "\n",
    "        #open pop up of followers\n",
    "        pop_up_opening=wait.until(EC.presence_of_element_located((By.CSS_SELECTOR,\"a:has(._ac2a)\")))\n",
    "        pop_up_opening.click()\n",
    "\n",
    "        time.sleep(4)\n",
    "\n",
    "        followers=driver.find_elements(By.CSS_SELECTOR,(\"span._ap3a._aaco._aacw._aacx._aad7._aade\"))\n",
    "        remove_buttons=driver.find_elements(By.XPATH,\"//div[contains(text(),'Remove')]\")\n",
    "                                            # (By.XPATH,\"//span[contains(text(),'Unfollow')]\")))\n",
    "        count=0\n",
    "        for i in followers:\n",
    "            if count==len(remove_buttons):break\n",
    "            followers_list.append(i.text)\n",
    "            count+=1\n",
    "\n",
    "        #Returning the followers list \n",
    "        return followers_list\n",
    "    except TimeoutException:\n",
    "        print('Sorry , something wrong happen ! Try again..') "
   ]
  },
  {
   "cell_type": "code",
   "execution_count": 94,
   "metadata": {},
   "outputs": [],
   "source": [
    "def extract_my_followings():\n",
    "    try:\n",
    "        driver.get('https://www.instagram.com/')\n",
    "        my_profile=driver.find_element(By.CSS_SELECTOR,\"div.x1iyjqo2.xh8yej3 :nth-child(8)\")\n",
    "        my_profile.click()\n",
    "        following_list=[]\n",
    "\n",
    "        #open pop up of followers\n",
    "        pop_up_opening=wait.until(EC.presence_of_all_elements_located((By.CSS_SELECTOR,\"a:has(._ac2a)\")))[1]\n",
    "        \n",
    "        pop_up_opening.click()\n",
    "\n",
    "        time.sleep(4)\n",
    "\n",
    "        followers=driver.find_elements(By.CSS_SELECTOR,(\"span._ap3a._aaco._aacw._aacx._aad7._aade\"))\n",
    "        remove_buttons=driver.find_elements(By.CSS_SELECTOR,\"button._acan._acap._acat._aj1-._ap30\")\n",
    "        # remove_buttons=driver.find_elements(By.XPATH,\"//div[contains(text(),'Following')]\")\n",
    "                                            # (By.XPATH,\"//span[contains(text(),'Unfollow')]\")))\n",
    "        count=0\n",
    "        for i in followers:\n",
    "            if count==len(remove_buttons):break\n",
    "            following_list.append(i.text)\n",
    "            count+=1\n",
    "\n",
    "        #Returning the followers list \n",
    "        return following_list\n",
    "    except TimeoutException:\n",
    "        print('Sorry , something wrong happen ! Try again..')\n",
    "\n",
    "\n",
    "\n",
    "# intersaction of two lists \n",
    "def intersection(lst1, lst2):\n",
    "    lst3 = [value for value in lst1 if value in lst2]\n",
    "    return lst3 "
   ]
  },
  {
   "cell_type": "code",
   "execution_count": 95,
   "metadata": {},
   "outputs": [
    {
     "data": {
      "text/plain": [
       "['khane_ka_khazana']"
      ]
     },
     "execution_count": 95,
     "metadata": {},
     "output_type": "execute_result"
    }
   ],
   "source": [
    "my_followers=extract_my_followers()\n",
    "my_followers"
   ]
  },
  {
   "cell_type": "code",
   "execution_count": 96,
   "metadata": {},
   "outputs": [
    {
     "name": "stdout",
     "output_type": "stream",
     "text": [
      "hemanshoe.sharma\n",
      "khane_ka_khazana\n",
      "moso.tour\n",
      "dipthefood\n",
      "_spice_paradise\n",
      "swaaad_saga\n",
      "noshno_sh\n"
     ]
    }
   ],
   "source": [
    "my_following=extract_my_followings()\n",
    "for i in my_following:\n",
    "    print(i)"
   ]
  },
  {
   "cell_type": "code",
   "execution_count": 97,
   "metadata": {},
   "outputs": [
    {
     "name": "stdout",
     "output_type": "stream",
     "text": [
      "dipthefood\n",
      "_spice_paradise\n",
      "swaaad_saga\n",
      "noshno_sh\n"
     ]
    }
   ],
   "source": [
    "similer_id=intersection(my_following,foodtalkindia_followers)\n",
    "for i in similer_id:\n",
    "    print(i)"
   ]
  },
  {
   "cell_type": "code",
   "execution_count": 98,
   "metadata": {},
   "outputs": [
    {
     "name": "stdout",
     "output_type": "stream",
     "text": [
      "noshno_sh\n",
      "_spice_paradise\n",
      "dipthefood\n",
      "swaaad_saga\n"
     ]
    }
   ],
   "source": [
    "# ids which followed by me but not following me\n",
    "not_follow_me= set(similer_id)-set(my_followers)\n",
    "for i in not_follow_me:\n",
    "    print(i)"
   ]
  },
  {
   "cell_type": "markdown",
   "metadata": {},
   "source": [
    "### 7. Check the story of ‘coding.ninjas’"
   ]
  },
  {
   "cell_type": "markdown",
   "metadata": {},
   "source": [
    "1.If You have already seen the story.  \n",
    "2.Or The user has no story.  \n",
    "3.Or View the story if not yet seen.  "
   ]
  },
  {
   "cell_type": "code",
   "execution_count": 99,
   "metadata": {},
   "outputs": [],
   "source": [
    "def Story_view(handle):\n",
    "    try:\n",
    "        driver.get('https://www.instagram.com/')\n",
    "        search_username(handle)\n",
    "        time.sleep(3)           \n",
    "        user_handle = wait.until(EC.presence_of_element_located((By.CSS_SELECTOR,\"span.x1lliihq.x1plvlek.xryxfnj.x1n2onr6.x193iq5w.xeuugli.x1fj9vlw.x13faqbe.x1vvkbs.x1s928wv.xhkezso.x1gmr53x.x1cpjm7i.x1fgarty.x1943h6x.x1i0vuye.xvs91rp.x1s688f.x5n08af.x10wh9bi.x1wdrske.x8viiok.x18hxmgj\")))\n",
    "        \n",
    "        user_handle.click()\n",
    "        time.sleep(3)\n",
    "        canvas=wait.until(EC.presence_of_element_located((By.CLASS_NAME,\"_aarh\")))\n",
    "        \n",
    "        dp=wait.until(EC.presence_of_all_elements_located((By.CSS_SELECTOR,\"div._aarf._aarg\")))[0]\n",
    "        h=canvas.get_attribute(\"height\")\n",
    "        if h==\"208\":\n",
    "            print(\"Story is already seen.\")\n",
    "        else:\n",
    "            dp.click()\n",
    "            print(\"Stories are viewing curruntly\")\n",
    "            upperslider=wait.until(EC.presence_of_element_located((By.CSS_SELECTOR,\"div.x1ned7t2.x78zum5\")))\n",
    "            nums_of_stories=len(upperslider.find_elements(By.XPATH,\"./*\"))\n",
    "\n",
    "            for i in range(nums_of_stories):\n",
    "                next_button=wait.until(EC.presence_of_all_elements_located((By.CSS_SELECTOR,\"svg.x1lliihq.x1n2onr6.xq3z1fi\")))\n",
    "                next_button=next_button[len(next_button)-1]\n",
    "                next_button.click()\n",
    "            \n",
    "            \n",
    "    except TimeoutException:\n",
    "        print('No Story available')"
   ]
  },
  {
   "cell_type": "code",
   "execution_count": 100,
   "metadata": {},
   "outputs": [
    {
     "name": "stdout",
     "output_type": "stream",
     "text": [
      "Story is already seen.\n"
     ]
    }
   ],
   "source": [
    "Story_view(\"coding.ninjas\") # try again to check \n"
   ]
  },
  {
   "cell_type": "code",
   "execution_count": 104,
   "metadata": {},
   "outputs": [
    {
     "name": "stdout",
     "output_type": "stream",
     "text": [
      "No Story available\n"
     ]
    }
   ],
   "source": [
    "# let's check account without strory\n",
    "\n",
    "Story_view(\"Any Sample account wich doesn't have strory\") \n",
    "\n",
    "#it is working ...."
   ]
  },
  {
   "cell_type": "code",
   "execution_count": 70,
   "metadata": {},
   "outputs": [],
   "source": [
    "driver.quit()"
   ]
  }
 ],
 "metadata": {
  "kernelspec": {
   "display_name": "Python 3",
   "language": "python",
   "name": "python3"
  },
  "language_info": {
   "codemirror_mode": {
    "name": "ipython",
    "version": 3
   },
   "file_extension": ".py",
   "mimetype": "text/x-python",
   "name": "python",
   "nbconvert_exporter": "python",
   "pygments_lexer": "ipython3",
   "version": "3.11.4"
  }
 },
 "nbformat": 4,
 "nbformat_minor": 2
}
